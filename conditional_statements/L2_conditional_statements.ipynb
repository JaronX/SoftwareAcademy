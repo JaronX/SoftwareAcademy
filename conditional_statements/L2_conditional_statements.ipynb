{
 "cells": [
  {
   "cell_type": "markdown",
   "metadata": {
    "collapsed": true
   },
   "source": [
    "# Задача 1.\n"
   ]
  },
  {
   "cell_type": "code",
   "execution_count": 13,
   "metadata": {},
   "outputs": [
    {
     "name": "stdout",
     "output_type": "stream",
     "text": [
      "1\n",
      "1\n",
      "x = 1\n",
      "y = 1\n"
     ]
    }
   ],
   "source": [
    "x = int(input())\n",
    "y = int(input())\n",
    "\n",
    "\n",
    "if x > y:\n",
    "    print('x =', y)\n",
    "    print('y =', x)\n",
    "else:\n",
    "    print('x =', x)\n",
    "    print('y =', y)"
   ]
  },
  {
   "cell_type": "markdown",
   "metadata": {},
   "source": [
    "# Задача 2."
   ]
  },
  {
   "cell_type": "code",
   "execution_count": 25,
   "metadata": {},
   "outputs": [
    {
     "name": "stdout",
     "output_type": "stream",
     "text": [
      "6\n",
      "-2\n",
      "-\n"
     ]
    }
   ],
   "source": [
    "x = float(input())\n",
    "y = float(input())\n",
    "\n",
    "\n",
    "chastno = ''\n",
    "\n",
    "if x > 0 and y >= 0:\n",
    "    chastno = '+'\n",
    "elif x < 0 and y < 0:\n",
    "    chastno = '+'\n",
    "elif x < 0 and y >= 0:\n",
    "    chastno = '-'\n",
    "else:\n",
    "    chastno = '-'\n",
    "    \n",
    "print(chastno)"
   ]
  },
  {
   "cell_type": "markdown",
   "metadata": {},
   "source": [
    "# Задача 3."
   ]
  },
  {
   "cell_type": "code",
   "execution_count": 29,
   "metadata": {},
   "outputs": [
    {
     "name": "stdout",
     "output_type": "stream",
     "text": [
      "2\n",
      "1\n",
      "3\n",
      "3.0\n"
     ]
    }
   ],
   "source": [
    "x = float(input())\n",
    "y = float(input())\n",
    "z = float(input())\n",
    "\n",
    "biggest_number = float()\n",
    "\n",
    "if x > y and x > z:\n",
    "    biggest_number = x\n",
    "elif y > x and y > z:\n",
    "    biggest_number = y\n",
    "else:\n",
    "    biggest_number = z\n",
    "\n",
    "print(biggest_number)"
   ]
  },
  {
   "cell_type": "markdown",
   "metadata": {},
   "source": [
    "# Задача 4."
   ]
  },
  {
   "cell_type": "code",
   "execution_count": 38,
   "metadata": {},
   "outputs": [
    {
     "name": "stdout",
     "output_type": "stream",
     "text": [
      "Напишете цифра от 0 до 9: 12\n",
      "невалидно\n"
     ]
    }
   ],
   "source": [
    "x = int(input('Напишете цифра от 0 до 9: '))\n",
    "\n",
    "cifra = ''\n",
    "\n",
    "if x == 0:\n",
    "    cifra = 'нула'\n",
    "elif x == 1:\n",
    "    cifra = 'едно'\n",
    "elif x == 2:\n",
    "    cifra = 'две'\n",
    "elif x == 3:\n",
    "    cifra = 'три'\n",
    "elif x == 4:\n",
    "    cifra = 'четири'\n",
    "elif x == 5:\n",
    "    cifra = 'пет'\n",
    "elif x == 6:\n",
    "    cifra = 'шест'\n",
    "elif x == 7:\n",
    "    cifra = 'седем'\n",
    "elif x == 8:\n",
    "    cifra = 'осем'\n",
    "elif x == 9:\n",
    "    cifra = 'девет'\n",
    "else:\n",
    "    cifra = 'невалидно'\n",
    "    \n",
    "print(cifra)"
   ]
  },
  {
   "cell_type": "markdown",
   "metadata": {},
   "source": [
    "# Задача 5."
   ]
  },
  {
   "cell_type": "code",
   "execution_count": 56,
   "metadata": {},
   "outputs": [
    {
     "name": "stdout",
     "output_type": "stream",
     "text": [
      "1\n",
      "2\n",
      "3\n",
      "x1 =  няма корен\n",
      "x2 =  няма корен\n"
     ]
    }
   ],
   "source": [
    "from math import sqrt\n",
    "from sys import exit\n",
    "\n",
    "\n",
    "a = float(input())\n",
    "b = float(input())\n",
    "c = float(input())\n",
    "\n",
    "if a == 0:\n",
    "    exit('невалидно деление на 0-ла')\n",
    "\n",
    "diskriminanta = (b ** 2) - (4 * a * c)\n",
    "\n",
    "if diskriminanta > 0:\n",
    "    x1 = ((-b) + sqrt(diskriminanta)) / (2 * a)\n",
    "    x2 = ((-b) - sqrt(diskriminanta)) / (2 * a)\n",
    "elif diskriminanta == 0:\n",
    "    x1 = x2 = (-b) / (2 * a)\n",
    "else:\n",
    "    x1 = x2 = 'няма корен'\n",
    "    \n",
    "print('x1 = ', x1)\n",
    "print('x2 = ', x2)"
   ]
  },
  {
   "cell_type": "markdown",
   "metadata": {},
   "source": [
    "# Задача 6."
   ]
  },
  {
   "cell_type": "code",
   "execution_count": 68,
   "metadata": {},
   "outputs": [
    {
     "name": "stdout",
     "output_type": "stream",
     "text": [
      "1\n",
      "2\n",
      "3\n",
      "няма подмножества със сума 0\n"
     ]
    }
   ],
   "source": [
    "x = int(input())\n",
    "y = int(input())\n",
    "z = int(input())\n",
    "\n",
    "mnojestva = 'няма подмножества със сума 0'\n",
    "\n",
    "if x + y == 0:\n",
    "    mnojestva = f'x = {x} \\ny = {y}'\n",
    "elif x + z == 0:\n",
    "    mnojestva = f'x = {x} \\nz = {z}'\n",
    "elif y + z == 0:\n",
    "    mnojestva = f'y = {y} \\nz = {z}'\n",
    "    \n",
    "print(mnojestva)\n"
   ]
  },
  {
   "cell_type": "markdown",
   "metadata": {},
   "source": [
    "# Задача 7."
   ]
  },
  {
   "cell_type": "code",
   "execution_count": 85,
   "metadata": {},
   "outputs": [
    {
     "name": "stdout",
     "output_type": "stream",
     "text": [
      "1\n",
      "10\n"
     ]
    }
   ],
   "source": [
    "points = int(input())\n",
    "\n",
    "bonus = 0\n",
    "\n",
    "if points == 1 or points == 2 or points == 3:\n",
    "    bonus = points * 10\n",
    "elif points == 4 or points == 5 or points == 6:\n",
    "    bonus = points * 100\n",
    "elif points == 7 or points == 8 or points == 9:\n",
    "    bonus = points * 1000\n",
    "elif points == 0 or points > 9:\n",
    "    bonus = str('грешка')\n",
    "    \n",
    "    \n",
    "print(bonus)"
   ]
  },
  {
   "cell_type": "markdown",
   "metadata": {},
   "source": [
    "# Задача 9.\n"
   ]
  },
  {
   "cell_type": "code",
   "execution_count": 10,
   "metadata": {},
   "outputs": [
    {
     "name": "stdout",
     "output_type": "stream",
     "text": [
      "Въведете температура: 12\n",
      "Въведете \"С\" за градус или \"F\" за фаренхайт: F\n",
      "12.0°F is -11.11111111111111 in Celsius\n"
     ]
    }
   ],
   "source": [
    "temperatura = float(input('Въведете температура: '))\n",
    "merna_edinica = input('Въведете \"С\" за градус или \"F\" за фаренхайт: ')\n",
    "\n",
    "preobrazuvana_temperatura = float()\n",
    "\n",
    "if merna_edinica == 'C': #преобразуваме от \"С\" във фаренхайт\n",
    "    preobrazuvana_temperatura = (temperatura * (9/5)) + 32\n",
    "elif merna_edinica == 'F': #преобразуваме от \"F\" в целзий\n",
    "    preobrazuvana_temperatura = (temperatura - 32) * (5/9)\n",
    "\n",
    "if merna_edinica == \"C\":\n",
    "    print(f'{temperatura}°C is {preobrazuvana_temperatura} in Fahrenheit')\n",
    "elif merna_edinica == \"F\":\n",
    "    print(f'{temperatura}°F is {preobrazuvana_temperatura} in Celsius')\n",
    "    \n",
    "\n"
   ]
  },
  {
   "cell_type": "markdown",
   "metadata": {},
   "source": [
    "# Задача 11."
   ]
  },
  {
   "cell_type": "code",
   "execution_count": null,
   "metadata": {},
   "outputs": [],
   "source": [
    "num1 = float(input())\n",
    "num2 = float(input())\n",
    "num3 = float(input())\n",
    "\n",
    "numerical_order = [num1, num2, num3]\n",
    "numerical_order.sort()\n",
    "\n",
    "print(f'Медианата е: {numerical_order[1]}')\n",
    "\n",
    "\n",
    "\n"
   ]
  },
  {
   "cell_type": "markdown",
   "metadata": {},
   "source": [
    "# Задача 12."
   ]
  },
  {
   "cell_type": "code",
   "execution_count": 2,
   "metadata": {},
   "outputs": [
    {
     "name": "stdout",
     "output_type": "stream",
     "text": [
      "27\n",
      "M\n",
      "oit\n",
      "Служителят може да работи навсякъде\n"
     ]
    }
   ],
   "source": [
    "age = int(input())\n",
    "gender = input()\n",
    "family = input()\n",
    "\n",
    "place_of_work = ''\n",
    "\n",
    "if age > 60:\n",
    "    exit('грешка')\n",
    "\n",
    "if gender == 'F' and age <= 60:\n",
    "    place_of_work = 'само в градски райони'\n",
    "else:\n",
    "    if 20 <= age <= 40:\n",
    "        place_of_work = 'навсякъде'\n",
    "    elif 40 <= age <= 60:\n",
    "        place_of_work = 'само в градските райони'\n",
    "\n",
    "\n",
    "\n",
    "\n",
    "\n",
    "print(f\"Служителят може да работи {place_of_work}\")"
   ]
  },
  {
   "cell_type": "markdown",
   "metadata": {},
   "source": [
    "# Задача 13."
   ]
  },
  {
   "cell_type": "code",
   "execution_count": null,
   "metadata": {
    "pycharm": {
     "name": "#%%\n"
    }
   },
   "outputs": [],
   "source": [
    "string = input()\n",
    "\n",
    "print(string[::-1])"
   ]
  },
  {
   "cell_type": "markdown",
   "metadata": {},
   "source": [
    "# Задача 15."
   ]
  },
  {
   "cell_type": "code",
   "execution_count": 4,
   "metadata": {},
   "outputs": [
    {
     "name": "stdout",
     "output_type": "stream",
     "text": [
      "Бюджет: 12\n",
      "VIP or Normal: 213\n",
      "Брой хора: 2\n",
      "Not enough money! You need 496.98 leva.\n"
     ]
    }
   ],
   "source": [
    "budget = float(input('Бюджет: '))\n",
    "category = input('VIP or Normal: ')\n",
    "people_count = int(input('Брой хора: '))\n",
    "\n",
    "transport = float()\n",
    "money_left = float()\n",
    "ticket = float()\n",
    "\n",
    "if 1 <= people_count <= 4:\n",
    "    transport = 0.75 * budget\n",
    "elif 5 <= people_count <= 9:\n",
    "    transport = 0.60 * budget\n",
    "elif 10 <= people_count <= 24:\n",
    "    transport = 0.50 * budget\n",
    "elif 25 <= people_count <= 49:\n",
    "    transport = 0.40 * budget\n",
    "else:\n",
    "    transport = 0.25 * budget\n",
    "\n",
    "\n",
    "if category == 'VIP':\n",
    "    tickets = people_count * 499.99\n",
    "else:\n",
    "    tickets = people_count * 249.99\n",
    "\n",
    "money_left = budget - (transport + tickets)\n",
    "\n",
    "if money_left > 0:\n",
    "    print(f\"Yes! You have {money_left:.2f} leva left.\")\n",
    "else:\n",
    "    print(f'Not enough money! You need {abs(money_left):.2f} leva.')"
   ]
  },
  {
   "cell_type": "markdown",
   "metadata": {},
   "source": [
    "# Задача 16."
   ]
  },
  {
   "cell_type": "code",
   "execution_count": 5,
   "metadata": {},
   "outputs": [
    {
     "name": "stdout",
     "output_type": "stream",
     "text": [
      "May\n",
      "16\n",
      "Apartment: 936.00 lv.\n",
      "Studio: 560.00 lv.\n"
     ]
    }
   ],
   "source": [
    "month = input()\n",
    "nights = int(input())\n",
    "\n",
    "price_studio = 0\n",
    "price_apartment = 0\n",
    "\n",
    "if (month == \"May\") or (month == \"October\"):\n",
    "    price_studio = 50\n",
    "    if 7 < nights <= 14:\n",
    "        price_studio -= price_studio * 0.05\n",
    "    elif nights > 14:\n",
    "        price_studio -= price_studio * 0.30\n",
    "elif (month == \"June\") or (month == \"September\"):\n",
    "    price_studio = 75.20\n",
    "    if nights > 14:\n",
    "        price_studio -= price_studio * 0.20\n",
    "elif (month == \"July\") or (month == \"August\"):\n",
    "    price_studio = 76\n",
    "\n",
    "if (month == \"May\") or (month == \"October\"):\n",
    "    price_apartment = 65\n",
    "    if nights > 14:\n",
    "        price_apartment -= price_apartment * 0.10\n",
    "elif (month == \"June\") or (month == \"September\"):\n",
    "    price_apartment = 68.70\n",
    "    if nights > 14:\n",
    "        price_apartment -= price_apartment * 0.10\n",
    "elif (month == \"July\") or (month == \"August\"):\n",
    "    price_apartment = 77\n",
    "    if nights > 14:\n",
    "        price_apartment -= price_apartment * 0.10\n",
    "\n",
    "total_studio = price_studio * nights\n",
    "total_apartment = price_apartment * nights\n",
    "\n",
    "print(f\"\"\"Apartment: {total_apartment:.2f} lv.\n",
    "Studio: {total_studio:.2f} lv.\"\"\")"
   ]
  },
  {
   "cell_type": "markdown",
   "metadata": {},
   "source": [
    "# Задача 17."
   ]
  },
  {
   "cell_type": "code",
   "execution_count": 6,
   "metadata": {},
   "outputs": [
    {
     "name": "stdout",
     "output_type": "stream",
     "text": [
      "12\n",
      "6\n",
      "/\n",
      "12 / 6 = 2.00\n"
     ]
    }
   ],
   "source": [
    "N1 = int(input())\n",
    "N2 = int(input())\n",
    "operator = input()\n",
    "\n",
    "result = 0\n",
    "\n",
    "if operator == \"+\":\n",
    "    result = N1 + N2\n",
    "    if result % 2 == 0:\n",
    "        even_or_odd = \"even\"\n",
    "    if result % 2 != 0:\n",
    "        even_or_odd = \"odd\"\n",
    "    print(f\"{N1} {operator} {N2} = {result} - {even_or_odd}\")\n",
    "elif operator == \"-\":\n",
    "    result = N1 - N2\n",
    "    if result % 2 == 0:\n",
    "        even_or_odd = \"even\"\n",
    "    if result % 2 != 0:\n",
    "        even_or_odd = \"odd\"\n",
    "    print(f\"{N1} {operator} {N2} = {result} - {even_or_odd}\")\n",
    "elif operator == \"*\":\n",
    "    result = N1 * N2\n",
    "    if result % 2 == 0:\n",
    "        even_or_odd = \"even\"\n",
    "    if result % 2 != 0:\n",
    "        even_or_odd = \"odd\"\n",
    "    print(f\"{N1} {operator} {N2} = {result} - {even_or_odd}\")\n",
    "elif operator == \"/\" and N2 == 0:\n",
    "    print(f\"Cannot divide {N1} by zero\")\n",
    "elif operator == \"/\":\n",
    "    result = N1 / N2\n",
    "    print(f\"{N1} / {N2} = {result:.2f}\")\n",
    "elif operator == \"%\" and N2 == 0:\n",
    "    print(f\"Cannot divide {N1} by zero\")\n",
    "elif operator == \"%\":\n",
    "    result = N1 % N2\n",
    "    print(f\"{N1} % {N2} = {result}\")"
   ]
  }
 ],
 "metadata": {
  "kernelspec": {
   "display_name": "Python 3",
   "language": "python",
   "name": "python3"
  },
  "language_info": {
   "codemirror_mode": {
    "name": "ipython",
    "version": 3
   },
   "file_extension": ".py",
   "mimetype": "text/x-python",
   "name": "python",
   "nbconvert_exporter": "python",
   "pygments_lexer": "ipython3",
   "version": "3.8.2"
  },
  "pycharm": {
   "stem_cell": {
    "cell_type": "raw",
    "metadata": {
     "collapsed": false
    },
    "source": []
   }
  }
 },
 "nbformat": 4,
 "nbformat_minor": 1
}
