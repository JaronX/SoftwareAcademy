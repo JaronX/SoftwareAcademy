{
 "cells": [
  {
   "cell_type": "markdown",
   "metadata": {},
   "source": [
    "# Задача 1.\n",
    "\n",
    "Принтирайте следният текст на екрана **“23 4.5 False John”**"
   ]
  },
  {
   "cell_type": "code",
   "execution_count": 4,
   "metadata": {},
   "outputs": [
    {
     "name": "stdout",
     "output_type": "stream",
     "text": [
      "23 4.5 False John\n"
     ]
    }
   ],
   "source": [
    "print('23 4.5 False John')"
   ]
  },
  {
   "cell_type": "markdown",
   "metadata": {},
   "source": [
    "# Задача 2. \n",
    "\n",
    "Попълнете празните полета, като използвате форматиращият метод **format.**   \n",
    "Празните места запълнете с вашето име и любими активности.\n",
    "\n",
    "”{ }’s favorite sports is { }.”\n",
    "“{ } is working on { } programming!”"
   ]
  },
  {
   "cell_type": "code",
   "execution_count": 6,
   "metadata": {},
   "outputs": [
    {
     "name": "stdout",
     "output_type": "stream",
     "text": [
      "Alex's favorite sport is Basketball. Alex is working on string programming!\n"
     ]
    }
   ],
   "source": [
    "name = 'Alex'\n",
    "sport = 'Basketball'\n",
    "task = 'string'\n",
    "\n",
    "print('{}\\'s favorite sport is {}. {} is working on {} programming!'.format(name, sport, name, task))"
   ]
  },
  {
   "cell_type": "markdown",
   "metadata": {},
   "source": [
    "# Задача 3. \n",
    "\n",
    "Създайте променлива, paragraph, която да съдържа следното съдържание:\n",
    "\"Python is a great language!\", said Fred. \"I don't ever remember having this much fun before.\"\n"
   ]
  },
  {
   "cell_type": "code",
   "execution_count": 11,
   "metadata": {},
   "outputs": [
    {
     "name": "stdout",
     "output_type": "stream",
     "text": [
      "\"Python is a great language!\", said Frend. \"I don't ever remember having this much fun before\".\n"
     ]
    }
   ],
   "source": [
    "paragraph = '\"Python is a great language!\", said Frend. \"I don\\'t ever remember having this much fun before\".'\n",
    "\n",
    "print(paragraph)"
   ]
  },
  {
   "cell_type": "markdown",
   "metadata": {},
   "source": [
    "# Задача 4. \n",
    "Създайте стринг, който да се казва school и да съдържа името на вашето училище. Използвате методите, които научихте за да промените стринга. Ако е необходимо използвайте help функцията.\n"
   ]
  },
  {
   "cell_type": "code",
   "execution_count": 41,
   "metadata": {},
   "outputs": [
    {
     "name": "stdout",
     "output_type": "stream",
     "text": [
      " Pgee Konstantin Fotinov. \n",
      " PGEE KONSTANTIN FOTINOV. \n",
      " pgee konstantin fotinov. \n",
      " PGEE Konstantin Fotinov! \n",
      "-1\n",
      "PGEE Konstantin Fotinov.\n",
      "PGEE Konstantin Fotinov. \n",
      " PGEE Konstantin Fotinov.\n",
      "True\n",
      "False\n",
      "['PGEE', 'Konstantin', 'Fotinov.']\n"
     ]
    }
   ],
   "source": [
    "school = ' PGEE Konstantin Fotinov. '\n",
    "\n",
    "print(school.title())\n",
    "print(school.upper())\n",
    "print(school.lower())\n",
    "print(school.replace('.', '!'))\n",
    "print(school.find('fotinov'))\n",
    "print(school.strip())\n",
    "print(school.lstrip())\n",
    "print(school.rstrip())\n",
    "print(school.startswith(' '))\n",
    "print(school.endswith('in'))\n",
    "print(school.split())"
   ]
  },
  {
   "cell_type": "markdown",
   "metadata": {},
   "source": [
    "# Задача 5. \n",
    "Създайте стринг, който да се казва country и присвоете на него стойност “usa”. Създайте нов стринг, correct_country, чиято стойност да е държавата само с големи букви, като използвате някой от стринг методите.\n"
   ]
  },
  {
   "cell_type": "code",
   "execution_count": 12,
   "metadata": {},
   "outputs": [
    {
     "name": "stdout",
     "output_type": "stream",
     "text": [
      "usa\n",
      "USA\n"
     ]
    }
   ],
   "source": [
    "country = ''\n",
    "country = country.replace('', 'usa')\n",
    "correct_country = country.upper()\n",
    "\n",
    "print(country)\n",
    "print(correct_country)"
   ]
  },
  {
   "cell_type": "markdown",
   "metadata": {},
   "source": [
    "# Задача 6. \n",
    "Създайте стринг,  filename и му присвоете стойност “hello.py”. Проверете дали стринга завършва на “.java”. Намерете индексът на ”py”. Проверете и дали думата започва с ”world”."
   ]
  },
  {
   "cell_type": "code",
   "execution_count": null,
   "metadata": {
    "pycharm": {
     "name": "#%%\n"
    }
   },
   "outputs": [],
   "source": [
    "filename = ''\n",
    "filename = filename.replace('', 'hello.py')\n",
    "\n",
    "print(filename.endswith('.java'))\n",
    "print(filename.endswith('py'))\n",
    "print(filename.startswith('world'))"
   ]
  },
  {
   "cell_type": "markdown",
   "metadata": {},
   "source": [
    "# Задача 7. \n",
    "Опитайте се да принтирате стринг изцяло с главни букви.\n"
   ]
  },
  {
   "cell_type": "code",
   "execution_count": null,
   "metadata": {
    "pycharm": {
     "name": "#%%\n"
    }
   },
   "outputs": [],
   "source": [
    "upper_letters = 'a b c d e f g h i k l m n o p q r s t u v w x y z'\n",
    "\n",
    "print(upper_letters.upper())"
   ]
  },
  {
   "cell_type": "markdown",
   "metadata": {},
   "source": [
    "# Задача 8. \n",
    "Напишете програма, която да премахва ”@@” от името ”@@John Smith”. Опитайте с .lstrip и .strip(). За да видите описанието на двете функции използвайте следното help(“ ”.strip)."
   ]
  },
  {
   "cell_type": "code",
   "execution_count": 40,
   "metadata": {
    "pycharm": {
     "name": "#%%\n"
    }
   },
   "outputs": [
    {
     "name": "stdout",
     "output_type": "stream",
     "text": [
      "John Smith\n",
      "John Smith\n"
     ]
    }
   ],
   "source": [
    "name = \"@@John Smith\"\n",
    "\n",
    "print(name.strip('@@'))\n",
    "print(name.lstrip(\"@@\"))"
   ]
  },
  {
   "attachments": {
    "image.png": {
     "image/png": "[encoded data removed]"
    }
   },
   "cell_type": "markdown",
   "metadata": {},
   "source": [
    "# Задача 9. \n",
    "Да се напише програма, която да принтира следната информация:\n",
    "\n",
    "![image.png](attachment:image.png) "
   ]
  },
  {
   "cell_type": "code",
   "execution_count": 37,
   "metadata": {},
   "outputs": [
    {
     "name": "stdout",
     "output_type": "stream",
     "text": [
      "**************************************************\n",
      "\t\t Coding Template, Inc.\n",
      "\t\t 283 Franklin St.\n",
      "\t\t Boston, MA\n",
      "==================================================\n",
      "\t Product Name \t Product Price\n",
      "\t Books \t\t $49.95\n",
      "\t Computer \t $579.99\n",
      "\t Monitor \t $124.89\n",
      "\u001b[1m==================================================\n",
      "\u001b[0m\t\t\t Total\n",
      "\t\t\t $754.83\n",
      "==================================================\n",
      "                                                  \n",
      "\t Thanks for Shopping with us today!\n",
      "                                                  \n",
      "**************************************************\n"
     ]
    }
   ],
   "source": [
    "print('*' * 50)\n",
    "print('''\\t\\t Coding Template, Inc.\n",
    "\\t\\t 283 Franklin St.\n",
    "\\t\\t Boston, MA''')\n",
    "print('=' * 50)\n",
    "print('''\\t Product Name \\t Product Price\n",
    "\\t Books \\t\\t $49.95\n",
    "\\t Computer \\t $579.99\n",
    "\\t Monitor \\t $124.89''')\n",
    "print('\\033[1m' + '=' * 50)\n",
    "print('\\033[0m' + '''\\t\\t\\t Total\n",
    "\\t\\t\\t $754.83''')\n",
    "print('=' * 50)\n",
    "print(' ' * 50)\n",
    "print('\\t Thanks for Shopping with us today!')\n",
    "print(' ' * 50)\n",
    "print('*' * 50)"
   ]
  }
 ],
 "metadata": {
  "kernelspec": {
   "display_name": "Python 3",
   "language": "python",
   "name": "python3"
  },
  "language_info": {
   "codemirror_mode": {
    "name": "ipython",
    "version": 3
   },
   "file_extension": ".py",
   "mimetype": "text/x-python",
   "name": "python",
   "nbconvert_exporter": "python",
   "pygments_lexer": "ipython3",
   "version": "3.7.3"
  },
  "pycharm": {
   "stem_cell": {
    "cell_type": "raw",
    "metadata": {
     "collapsed": false
    },
    "source": []
   }
  }
 },
 "nbformat": 4,
 "nbformat_minor": 1
}
